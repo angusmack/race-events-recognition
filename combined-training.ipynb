{
 "cells": [
  {
   "cell_type": "code",
   "execution_count": 1,
   "metadata": {},
   "outputs": [
    {
     "name": "stderr",
     "output_type": "stream",
     "text": [
      "/anaconda/envs/py35/lib/python3.5/site-packages/h5py/__init__.py:36: FutureWarning: Conversion of the second argument of issubdtype from `float` to `np.floating` is deprecated. In future, it will be treated as `np.float64 == np.dtype(float).type`.\n",
      "  from ._conv import register_converters as _register_converters\n",
      "Using TensorFlow backend.\n"
     ]
    }
   ],
   "source": [
    "from pipe import *\n",
    "import functools\n",
    "\n",
    "import mPyPl as mp\n",
    "from mPyPl.utils.video import *\n",
    "\n",
    "from research.retina.detector import *\n",
    "from research.optical_flow.focused import *\n",
    "from research.optical_flow.dense import *\n",
    "from research.optical_flow.utils import *\n",
    "\n",
    "import cv2\n",
    "import numpy as np\n",
    "import pickle\n",
    "import os\n",
    "import sys\n",
    "\n",
    "from keras.regularizers import l2\n",
    "from keras.layers import Input, Dense, AveragePooling2D, Conv2D, Conv3D, MaxPooling2D, Dropout, Flatten, concatenate\n",
    "from keras.models import Model, Sequential"
   ]
  },
  {
   "cell_type": "code",
   "execution_count": 3,
   "metadata": {},
   "outputs": [],
   "source": [
    "# Configuration variables\n",
    "\n",
    "data_dir = 'videos'\n",
    "classes = { 'collisions' : 1, 'not-collisions': 0 }"
   ]
  },
  {
   "cell_type": "code",
   "execution_count": 4,
   "metadata": {},
   "outputs": [],
   "source": [
    "## Setup RetinaFlow\n",
    "\n",
    "retinaflow_shape = (190, 100, 2)\n",
    "\n",
    "hist_params = [\n",
    "    dict(\n",
    "        bins=retinaflow_shape[1],\n",
    "        lower=5,\n",
    "        upper=240,\n",
    "        maxv=1\n",
    "    ),\n",
    "    dict(\n",
    "        bins=retinaflow_shape[1],\n",
    "        lower=0,\n",
    "        upper=6.29,\n",
    "        maxv=1 \n",
    "    ),\n",
    "]\n",
    "\n",
    "stream = (\n",
    "    mp.get_datastream(data_dir, 'mp4', classes, split_filename='split2.txt')\n",
    "    | mp.apply('filename', 'raw_rflows', load_optical)\n",
    "    | mp.apply('raw_rflows', 'gradients', calc_gradients)\n",
    "    | mp.apply('gradients', 'polar', to_polar)\n",
    "    | mp.apply('polar', 'histograms', lambda x: video_to_hist(x, hist_params))\n",
    "    | mp.apply('histograms', 'res_rflows', lambda x: zero_pad(x, retinaflow_shape))\n",
    "    | mp.filter_split(mp.SplitType.Train) \n",
    "    | select(lambda x: x['res_rflows']) \n",
    "    | as_list\n",
    ")\n",
    "\n",
    "maxes = np.max(stream, axis=(0,1,2))\n",
    "hist_params[0]['maxv'] = maxes[0]\n",
    "hist_params[1]['maxv'] = maxes[1]\n",
    "del stream"
   ]
  },
  {
   "cell_type": "code",
   "execution_count": 5,
   "metadata": {},
   "outputs": [],
   "source": [
    "## Setup DenseFlow\n",
    "\n",
    "from research.optical_flow.dense import normalize_histograms\n",
    "\n",
    "stream = (\n",
    "    mp.get_datastream(data_dir,'mp4',classes,split_filename='split2.txt')\n",
    "    | mp.apply('filename','res_dflows', lambda x: np.load(x+'.flows.npy')) \n",
    "    | as_list\n",
    ")\n",
    "\n",
    "# Compute max no of frames per video\n",
    "max_frames = stream | select (lambda x : x['res_dflows'].shape[0]) | max\n",
    "\n",
    "# Compute the mix/max values of angle and magnitude of optical flow vectors\n",
    "maxs = stream | select(lambda x : x['res_dflows'].max(axis=(0,1))) | mp.as_npy\n",
    "mins,maxs,avgs = maxs.min(axis=0),maxs.max(axis=0),np.average(maxs,axis=0)\n",
    "\n",
    "max_frames = 190\n",
    "ang_diap = (mins[0],avgs[0])\n",
    "mag_diap = (mins[1],maxs[1])\n",
    "del stream"
   ]
  },
  {
   "cell_type": "code",
   "execution_count": 6,
   "metadata": {},
   "outputs": [],
   "source": [
    "## Setup combined dataflow\n",
    "\n",
    "trainstream, valstream = (\n",
    "    mp.get_datastream(data_dir, 'mp4', classes, split_filename='split2.txt')\n",
    "    # RetinaFlow pipeline\n",
    "    | mp.apply('filename', 'raw_rflows', load_optical)\n",
    "    | mp.apply('raw_rflows', 'gradients', calc_gradients)\n",
    "    | mp.apply('gradients', 'polar', to_polar)\n",
    "    | mp.apply('polar', 'histograms', functools.partial(video_to_hist,params=hist_params))\n",
    "    | mp.apply('histograms', 'res_rflows', functools.partial(zero_pad_hist,shape=retinaflow_shape))\n",
    "    | mp.delfield(['raw_rflows', 'gradients', 'polar', 'histograms'])\n",
    "    # VGG16 embeddings pipeline\n",
    "    | mp.apply('filename', 'raw_vgg', lambda x: np.load(x+'.vgg16.npy'))\n",
    "    | mp.apply('raw_vgg','prep_vgg', functools.partial(mp.zero_pad,max_frames=125))\n",
    "    | mp.apply('prep_vgg', 'res_vgg', lambda x: x.reshape(125,-1,1))\n",
    "    | mp.delfield(['raw_vgg', 'prep_vgg'])\n",
    "    # DenseFlow pipeline\n",
    "    | mp.apply('filename','raw_dflows', lambda x: np.load(x+'.flows.npy')) \n",
    "    | mp.apply('raw_dflows','prep_dflows',functools.partial(mp.zero_pad,max_frames=max_frames)) \n",
    "    | mp.apply('prep_dflows', 'res_dflows', functools.partial(normalize_histograms, ang_diap=ang_diap, mag_diap=mag_diap)) \n",
    "    | mp.delfield(['raw_dflows', 'prep_dflows'])\n",
    "    # Split\n",
    "    | mp.make_train_test_split \n",
    ")"
   ]
  },
  {
   "cell_type": "code",
   "execution_count": 7,
   "metadata": {},
   "outputs": [],
   "source": [
    "## RetinaFlow model\n",
    "\n",
    "model1 = Sequential()\n",
    "model1.add(AveragePooling2D((2, 2), input_shape=retinaflow_shape))\n",
    "model1.add(Conv2D(64, (5,2), activation='relu', kernel_initializer='glorot_uniform'))\n",
    "model1.add(Conv2D(32, (2,4), activation='relu', kernel_initializer='glorot_uniform'))\n",
    "model1.add(MaxPooling2D(pool_size=(3, 3)))\n",
    "model1.add(Dropout(0.3))\n",
    "\n",
    "model1.add(Conv2D(32, (3,3), activation='relu', kernel_initializer='glorot_uniform'))\n",
    "model1.add(Conv2D(32, (3,3), activation='relu', kernel_initializer='glorot_uniform'))\n",
    "model1.add(Dropout(0.2))\n",
    "model1.add(Flatten())\n",
    "\n",
    "model1.add(Dense(100, activation='relu', kernel_initializer='glorot_uniform'))\n",
    "model1.add(Dense(10, activation='relu', kernel_initializer='glorot_uniform'))\n",
    "model1.add(Dense(1, activation='sigmoid', kernel_initializer='glorot_uniform'))"
   ]
  },
  {
   "cell_type": "code",
   "execution_count": 8,
   "metadata": {},
   "outputs": [],
   "source": [
    "## VGG16-based model\n",
    "\n",
    "model2 = Sequential()\n",
    "model2.add(AveragePooling2D((4, 4),input_shape=(125, 7680, 1)))\n",
    "model2.add(Conv2D(8, (3, 3), data_format='channels_last',activation='relu',kernel_initializer='glorot_uniform',kernel_regularizer=l2(0.01)))\n",
    "model2.add(AveragePooling2D((4, 4)))\n",
    "model2.add(Conv2D(16, (3, 3) ,activation='relu',kernel_initializer='glorot_uniform',kernel_regularizer=l2(0.01)))\n",
    "model2.add(AveragePooling2D((4, 4)))\n",
    "model2.add(Flatten())\n",
    "model2.add(Dropout(0.5))\n",
    "model2.add(Dense(100,activation='relu',kernel_initializer='glorot_uniform',kernel_regularizer=l2(0.01)))"
   ]
  },
  {
   "cell_type": "code",
   "execution_count": 9,
   "metadata": {},
   "outputs": [],
   "source": [
    "## DenseFlow model\n",
    "\n",
    "model3 = Sequential()\n",
    "model3.add(AveragePooling2D((2, 2),input_shape=(max_frames, 100, 2)))\n",
    "model3.add(Conv2D(8, (3, 3), data_format='channels_last',activation='relu',kernel_initializer='glorot_uniform',kernel_regularizer=l2(0.01)))\n",
    "model3.add(AveragePooling2D((2, 2)))\n",
    "model3.add(Conv2D(16, (3, 3) ,activation='relu',kernel_initializer='glorot_uniform',kernel_regularizer=l2(0.01)))\n",
    "model3.add(AveragePooling2D((2, 2)))\n",
    "model3.add(Flatten())\n",
    "model3.add(Dropout(0.5))\n",
    "model3.add(Dense(100,activation='relu',kernel_initializer='glorot_uniform',kernel_regularizer=l2(0.01)))"
   ]
  },
  {
   "cell_type": "code",
   "execution_count": 10,
   "metadata": {},
   "outputs": [
    {
     "name": "stdout",
     "output_type": "stream",
     "text": [
      "__________________________________________________________________________________________________\n",
      "Layer (type)                    Output Shape         Param #     Connected to                     \n",
      "==================================================================================================\n",
      "input_1 (InputLayer)            (None, 190, 100, 2)  0                                            \n",
      "__________________________________________________________________________________________________\n",
      "input_2 (InputLayer)            (None, 125, 7680, 1) 0                                            \n",
      "__________________________________________________________________________________________________\n",
      "input_3 (InputLayer)            (None, 190, 100, 2)  0                                            \n",
      "__________________________________________________________________________________________________\n",
      "sequential_1 (Sequential)       (None, 1)            952577      input_1[0][0]                    \n",
      "__________________________________________________________________________________________________\n",
      "sequential_2 (Sequential)       (None, 100)          191748      input_2[0][0]                    \n",
      "__________________________________________________________________________________________________\n",
      "sequential_3 (Sequential)       (None, 100)          388620      input_3[0][0]                    \n",
      "__________________________________________________________________________________________________\n",
      "concatenate_1 (Concatenate)     (None, 201)          0           sequential_1[1][0]               \n",
      "                                                                 sequential_2[1][0]               \n",
      "                                                                 sequential_3[1][0]               \n",
      "__________________________________________________________________________________________________\n",
      "dense_6 (Dense)                 (None, 1)            202         concatenate_1[0][0]              \n",
      "==================================================================================================\n",
      "Total params: 1,533,147\n",
      "Trainable params: 1,533,147\n",
      "Non-trainable params: 0\n",
      "__________________________________________________________________________________________________\n"
     ]
    },
    {
     "name": "stderr",
     "output_type": "stream",
     "text": [
      "/anaconda/envs/py35/lib/python3.5/site-packages/ipykernel_launcher.py:8: UserWarning: Update your `Model` call to the Keras 2 API: `Model(outputs=Tensor(\"de..., inputs=[<tf.Tenso...)`\n",
      "  \n"
     ]
    }
   ],
   "source": [
    "## Combined model\n",
    "input1 = Input(shape=retinaflow_shape)\n",
    "input2 = Input(shape=(125,7680,1))\n",
    "input3 = Input(shape=(max_frames,100,2))\n",
    "concat = concatenate([model1(input1),model2(input2), model3(input3)])\n",
    "output = Dense(1, activation='sigmoid',kernel_initializer='glorot_uniform',kernel_regularizer=l2(0.01))(concat)\n",
    "                                                                                                        \n",
    "model = Model(input=[input1,input2,input3],output=output)\n",
    "model.summary()"
   ]
  },
  {
   "cell_type": "code",
   "execution_count": 11,
   "metadata": {},
   "outputs": [
    {
     "name": "stdout",
     "output_type": "stream",
     "text": [
      "Epoch 1/30\n",
      "100/100 [==============================] - 10s 95ms/step - loss: 2.4076 - acc: 0.6250 - val_loss: 1.5765 - val_acc: 0.5813\n",
      "Epoch 2/30\n",
      "100/100 [==============================] - 4s 35ms/step - loss: 1.3579 - acc: 0.7300 - val_loss: 1.1108 - val_acc: 0.7875\n",
      "Epoch 3/30\n",
      "100/100 [==============================] - 4s 35ms/step - loss: 1.0646 - acc: 0.7200 - val_loss: 0.9367 - val_acc: 0.7812\n",
      "Epoch 4/30\n",
      "100/100 [==============================] - 4s 35ms/step - loss: 0.8960 - acc: 0.7900 - val_loss: 0.9200 - val_acc: 0.7562\n",
      "Epoch 5/30\n",
      "100/100 [==============================] - 4s 35ms/step - loss: 0.8686 - acc: 0.7650 - val_loss: 0.8496 - val_acc: 0.6750\n",
      "Epoch 6/30\n",
      "100/100 [==============================] - 4s 35ms/step - loss: 0.7904 - acc: 0.8050 - val_loss: 0.6508 - val_acc: 0.8375\n",
      "Epoch 7/30\n",
      "100/100 [==============================] - 4s 35ms/step - loss: 0.7178 - acc: 0.7750 - val_loss: 0.6569 - val_acc: 0.8438\n",
      "Epoch 8/30\n",
      "100/100 [==============================] - 4s 35ms/step - loss: 0.7712 - acc: 0.7900 - val_loss: 0.7618 - val_acc: 0.6813\n",
      "Epoch 9/30\n",
      "100/100 [==============================] - 4s 35ms/step - loss: 0.6453 - acc: 0.8150 - val_loss: 0.5728 - val_acc: 0.8812\n",
      "Epoch 10/30\n",
      "100/100 [==============================] - 4s 35ms/step - loss: 0.6400 - acc: 0.8050 - val_loss: 0.6202 - val_acc: 0.8250\n",
      "Epoch 11/30\n",
      "100/100 [==============================] - 4s 35ms/step - loss: 0.6653 - acc: 0.7900 - val_loss: 0.6445 - val_acc: 0.8125\n",
      "Epoch 12/30\n",
      "100/100 [==============================] - 4s 35ms/step - loss: 0.5847 - acc: 0.8400 - val_loss: 0.5779 - val_acc: 0.8562\n",
      "Epoch 13/30\n",
      "100/100 [==============================] - 4s 35ms/step - loss: 0.5621 - acc: 0.8400 - val_loss: 0.5665 - val_acc: 0.8438\n",
      "Epoch 14/30\n",
      "100/100 [==============================] - 4s 35ms/step - loss: 0.5469 - acc: 0.8600 - val_loss: 0.5599 - val_acc: 0.8438\n",
      "Epoch 15/30\n",
      "100/100 [==============================] - 4s 35ms/step - loss: 0.5619 - acc: 0.8550 - val_loss: 0.5603 - val_acc: 0.8250\n",
      "Epoch 16/30\n",
      "100/100 [==============================] - 4s 35ms/step - loss: 0.5362 - acc: 0.8700 - val_loss: 0.5227 - val_acc: 0.8500\n",
      "Epoch 17/30\n",
      "100/100 [==============================] - 4s 35ms/step - loss: 0.6216 - acc: 0.7800 - val_loss: 0.5833 - val_acc: 0.8250\n",
      "Epoch 18/30\n",
      "100/100 [==============================] - 4s 35ms/step - loss: 0.5203 - acc: 0.8700 - val_loss: 0.5130 - val_acc: 0.8688\n",
      "Epoch 19/30\n",
      "100/100 [==============================] - 4s 35ms/step - loss: 0.5667 - acc: 0.8500 - val_loss: 0.6123 - val_acc: 0.8000\n",
      "Epoch 20/30\n",
      "100/100 [==============================] - 4s 35ms/step - loss: 0.5556 - acc: 0.8350 - val_loss: 0.5666 - val_acc: 0.8625\n",
      "Epoch 21/30\n",
      "100/100 [==============================] - 4s 35ms/step - loss: 0.5507 - acc: 0.8500 - val_loss: 0.5799 - val_acc: 0.7937\n",
      "Epoch 22/30\n",
      "100/100 [==============================] - 4s 35ms/step - loss: 0.5129 - acc: 0.8550 - val_loss: 0.6893 - val_acc: 0.8063\n",
      "Epoch 23/30\n",
      "100/100 [==============================] - 4s 35ms/step - loss: 0.5665 - acc: 0.8400 - val_loss: 0.5632 - val_acc: 0.8187\n",
      "Epoch 24/30\n",
      "100/100 [==============================] - 4s 35ms/step - loss: 0.5233 - acc: 0.8550 - val_loss: 0.5900 - val_acc: 0.8187\n"
     ]
    }
   ],
   "source": [
    "from keras import optimizers\n",
    "from keras import callbacks\n",
    "import math\n",
    "\n",
    "\n",
    "model.compile(loss='binary_crossentropy',\n",
    "              optimizer=optimizers.Adam(lr=0.001),\n",
    "              metrics=['acc'])\n",
    "\n",
    "filepath = \"weights-improvement-{epoch:02d}-{val_acc:.2f}.hdf5\"\n",
    "\n",
    "checkpoint =  callbacks.ModelCheckpoint(filepath, \n",
    "                          monitor='val_loss', \n",
    "                          verbose=0, \n",
    "                          save_best_only=True, \n",
    "                          save_weights_only=False, \n",
    "                          mode='auto', \n",
    "                          period=1)\n",
    "early_stopping = callbacks.EarlyStopping(monitor='val_loss',\n",
    "                              min_delta=0.0001,\n",
    "                              patience=6,\n",
    "                              verbose=0, mode='auto')\n",
    "\n",
    "history = model.fit_generator(\n",
    "      trainstream | mp.infshuffle | mp.as_batch(['res_rflows', 'res_vgg', 'res_dflows'], 'class_id', batchsize=2),\n",
    "      steps_per_epoch=100, \n",
    "      validation_data=valstream | mp.infshuffle() | mp.as_batch(['res_rflows', 'res_vgg', 'res_dflows'], 'class_id', batchsize=2), \n",
    "      validation_steps = 80,\n",
    "      epochs=30,\n",
    "      callbacks = [checkpoint, early_stopping])"
   ]
  },
  {
   "cell_type": "code",
   "execution_count": 12,
   "metadata": {},
   "outputs": [
    {
     "data": {
      "image/png": "[encoded data removed]",
      "text/plain": [
       "<matplotlib.figure.Figure at 0x7fd3d5d7f9b0>"
      ]
     },
     "metadata": {},
     "output_type": "display_data"
    },
    {
     "data": {
      "image/png": "[encoded data removed]",
      "text/plain": [
       "<matplotlib.figure.Figure at 0x7fd3d38d0588>"
      ]
     },
     "metadata": {},
     "output_type": "display_data"
    }
   ],
   "source": [
    "%matplotlib inline\n",
    "\n",
    "import matplotlib.pyplot as plt\n",
    "\n",
    "# summarize history for accuracy\n",
    "plt.figure(figsize=(15,4))\n",
    "plt.plot(history.history['acc'])\n",
    "plt.plot(history.history['val_acc'])\n",
    "plt.title('model accuracy')\n",
    "plt.ylabel('accuracy')\n",
    "plt.xlabel('epoch')\n",
    "plt.legend(['train', 'test'], loc='upper left')\n",
    "plt.show()\n",
    "# summarize history for loss\n",
    "plt.figure(figsize=(15,4))\n",
    "plt.plot(history.history['loss'])\n",
    "plt.plot(history.history['val_loss'])\n",
    "plt.title('model loss')\n",
    "plt.ylabel('loss')\n",
    "plt.xlabel('epoch')\n",
    "plt.legend(['train', 'test'], loc='upper left')\n",
    "plt.show()"
   ]
  }
 ],
 "metadata": {
  "kernelspec": {
   "display_name": "Python 3",
   "language": "python",
   "name": "python3"
  },
  "language_info": {
   "codemirror_mode": {
    "name": "ipython",
    "version": 3
   },
   "file_extension": ".py",
   "mimetype": "text/x-python",
   "name": "python",
   "nbconvert_exporter": "python",
   "pygments_lexer": "ipython3",
   "version": "3.5.4"
  }
 },
 "nbformat": 4,
 "nbformat_minor": 2
}
