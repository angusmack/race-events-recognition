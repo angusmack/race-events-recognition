{
 "cells": [
  {
   "cell_type": "code",
   "execution_count": 1,
   "metadata": {},
   "outputs": [],
   "source": [
    "%load_ext autoreload"
   ]
  },
  {
   "cell_type": "code",
   "execution_count": 2,
   "metadata": {},
   "outputs": [
    {
     "name": "stderr",
     "output_type": "stream",
     "text": [
      "Using TensorFlow backend.\n"
     ]
    }
   ],
   "source": [
    "%autoreload\n",
    "\n",
    "from utils.streams import DataStreams\n",
    "from pipe import *\n",
    "\n",
    "d = DataStreams()\n",
    "\n",
    "# use this cautiously, do you have enough RAM?!\n",
    "d.use_cache = True"
   ]
  },
  {
   "cell_type": "code",
   "execution_count": 3,
   "metadata": {},
   "outputs": [
    {
     "data": {
      "text/plain": [
       "[(0, './videos/not-collisions\\\\output129.mp4'),\n",
       " (0, './videos/not-collisions\\\\output029-26961.mp4'),\n",
       " (1, './videos/collisions\\\\output012-5404.mp4'),\n",
       " (0, './videos/not-collisions\\\\output241-14767.mp4'),\n",
       " (0, './videos/not-collisions\\\\output050-26961.mp4')]"
      ]
     },
     "execution_count": 3,
     "metadata": {},
     "output_type": "execute_result"
    }
   ],
   "source": [
    "d.video_stream() | take(5) | as_list()"
   ]
  },
  {
   "cell_type": "code",
   "execution_count": null,
   "metadata": {},
   "outputs": [],
   "source": [
    "%matplotlib inline\n",
    "import numpy as np\n",
    "import matplotlib.pyplot as plt\n",
    "import matplotlib.image as mpimg\n",
    "from utils.image import *\n",
    "from utils.video import *\n",
    "from utils.pipeutils import *\n",
    "\n",
    "@Pipe\n",
    "def adorn_video_with_retina(flow): \n",
    "    while True:\n",
    "        video = next(flow)\n",
    "        \n",
    "        yield (video[0], np.load( video[1].replace('.mp4', '.retina.npy') ) )\n",
    "\n",
    "sims_train = d.video_stream(validation_data=False) | adorn_video_with_retina()\n",
    " \n"
   ]
  }
 ],
 "metadata": {
  "kernelspec": {
   "display_name": "Python 3",
   "language": "python",
   "name": "python3"
  },
  "language_info": {
   "codemirror_mode": {
    "name": "ipython",
    "version": 3
   },
   "file_extension": ".py",
   "mimetype": "text/x-python",
   "name": "python",
   "nbconvert_exporter": "python",
   "pygments_lexer": "ipython3",
   "version": "3.5.4"
  }
 },
 "nbformat": 4,
 "nbformat_minor": 2
}
